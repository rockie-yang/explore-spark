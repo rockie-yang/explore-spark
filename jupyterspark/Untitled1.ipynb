{
 "cells": [
  {
   "cell_type": "code",
   "execution_count": 1,
   "metadata": {},
   "outputs": [
    {
     "name": "stdout",
     "output_type": "stream",
     "text": [
      "hello"
     ]
    }
   ],
   "source": [
    "print(\"hello\")"
   ]
  },
  {
   "cell_type": "code",
   "execution_count": 4,
   "metadata": {},
   "outputs": [
    {
     "ename": "",
     "evalue": "",
     "output_type": "error",
     "traceback": [
      "\u001b[31mjava.lang.IllegalArgumentException: System memory 466092032 must be at least 471859200. Please increase heap size using the --driver-memory option or spark.driver.memory in Spark configuration.\u001b[39m",
      "  org.apache.spark.memory.UnifiedMemoryManager$.getMaxMemory(\u001b[32mUnifiedMemoryManager.scala\u001b[39m:\u001b[32m216\u001b[39m)",
      "  org.apache.spark.memory.UnifiedMemoryManager$.apply(\u001b[32mUnifiedMemoryManager.scala\u001b[39m:\u001b[32m198\u001b[39m)",
      "  org.apache.spark.SparkEnv$.create(\u001b[32mSparkEnv.scala\u001b[39m:\u001b[32m330\u001b[39m)",
      "  org.apache.spark.SparkEnv$.createDriverEnv(\u001b[32mSparkEnv.scala\u001b[39m:\u001b[32m174\u001b[39m)",
      "  org.apache.spark.SparkContext.createSparkEnv(\u001b[32mSparkContext.scala\u001b[39m:\u001b[32m257\u001b[39m)",
      "  org.apache.spark.SparkContext.<init>(\u001b[32mSparkContext.scala\u001b[39m:\u001b[32m432\u001b[39m)",
      "  org.apache.spark.SparkContext$.getOrCreate(\u001b[32mSparkContext.scala\u001b[39m:\u001b[32m2313\u001b[39m)",
      "  org.apache.spark.sql.SparkSession$Builder$$anonfun$6.apply(\u001b[32mSparkSession.scala\u001b[39m:\u001b[32m868\u001b[39m)",
      "  org.apache.spark.sql.SparkSession$Builder$$anonfun$6.apply(\u001b[32mSparkSession.scala\u001b[39m:\u001b[32m860\u001b[39m)",
      "  scala.Option.getOrElse(\u001b[32mOption.scala\u001b[39m:\u001b[32m121\u001b[39m)",
      "  org.apache.spark.sql.SparkSession$Builder.getOrCreate(\u001b[32mSparkSession.scala\u001b[39m:\u001b[32m860\u001b[39m)",
      "  jupyter.spark.session.JupyterSparkSession$Builder.getOrCreate(\u001b[32mJupyterSparkSession.scala\u001b[39m:\u001b[32m48\u001b[39m)",
      "  $sess.cmd3Wrapper$Helper.<init>(\u001b[32mcmd3.sc\u001b[39m:\u001b[32m21\u001b[39m)",
      "  $sess.cmd3Wrapper.<init>(\u001b[32mcmd3.sc\u001b[39m:\u001b[32m123\u001b[39m)",
      "  $sess.cmd3$.<init>(\u001b[32mcmd3.sc\u001b[39m:\u001b[32m63\u001b[39m)",
      "  $sess.cmd3$.<clinit>(\u001b[32mcmd3.sc\u001b[39m:\u001b[32m-1\u001b[39m)"
     ]
    }
   ],
   "source": [
    "import $exclude.`org.slf4j:slf4j-log4j12`, $ivy.`org.slf4j:slf4j-nop:1.7.21` // for cleaner logs\n",
    "import $profile.`hadoop-2.6`\n",
    "import $ivy.`org.apache.spark::spark-sql:2.1.0` // adjust spark version - spark >= 2.0\n",
    "import $ivy.`org.apache.hadoop:hadoop-aws:2.6.4`\n",
    "import $ivy.`org.jupyter-scala::spark:0.4.2` // for JupyterSparkSession (SparkSession aware of the jupyter-scala kernel)\n",
    "\n",
    "import org.apache.spark._\n",
    "import org.apache.spark.sql._\n",
    "import jupyter.spark.session._\n",
    "\n",
    "val sparkSession = JupyterSparkSession.builder() // important - call this rather than SparkSession.builder()\n",
    "  .jupyter() // this method must be called straightaway after builder()\n",
    "  // .yarn(\"/etc/hadoop/conf\") // optional, for Spark on YARN - argument is the Hadoop conf directory\n",
    "  // .emr(\"2.6.4\") // on AWS ElasticMapReduce, this adds aws-related to the spark jar list\n",
    "  .master(\"local\") // change to \"yarn-client\" on YARN\n",
    "  // .config(\"spark.executor.instances\", \"10\")\n",
    "  .config(\"spark.executor.memory\", \"1g\")\n",
    "  // .config(\"spark.hadoop.fs.s3a.access.key\", awsCredentials._1)\n",
    "  // .config(\"spark.hadoop.fs.s3a.secret.key\", awsCredentials._2)\n",
    "  .appName(\"notebook\")\n",
    "  .getOrCreate()"
   ]
  },
  {
   "cell_type": "code",
   "execution_count": 2,
   "metadata": {},
   "outputs": [
    {
     "name": "stderr",
     "output_type": "stream",
     "text": [
      "cmd2.sc:1: not found: value sparkSession\n",
      "val res2 = sparkSession\n",
      "           ^"
     ]
    },
    {
     "ename": "",
     "evalue": "",
     "output_type": "error",
     "traceback": [
      "Compilation Failed"
     ]
    }
   ],
   "source": [
    "sparkSession"
   ]
  },
  {
   "cell_type": "code",
   "execution_count": 4,
   "metadata": {},
   "outputs": [
    {
     "name": "stderr",
     "output_type": "stream",
     "text": [
      "cmd4.sc:1: not found: value sc\n",
      "val res4 = sc\n",
      "           ^"
     ]
    },
    {
     "ename": "",
     "evalue": "",
     "output_type": "error",
     "traceback": [
      "Compilation Failed"
     ]
    }
   ],
   "source": [
    "sc"
   ]
  },
  {
   "cell_type": "code",
   "execution_count": null,
   "metadata": {},
   "outputs": [],
   "source": []
  }
 ],
 "metadata": {
  "kernelspec": {
   "display_name": "Scala",
   "language": "scala",
   "name": "scala"
  },
  "language_info": {
   "codemirror_mode": "text/x-scala",
   "file_extension": ".scala",
   "mimetype": "text/x-scala",
   "name": "scala211",
   "nbconvert_exporter": "script",
   "pygments_lexer": "scala",
   "version": "2.11.11"
  }
 },
 "nbformat": 4,
 "nbformat_minor": 2
}
